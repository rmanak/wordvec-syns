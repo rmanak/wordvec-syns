{
 "cells": [
  {
   "cell_type": "markdown",
   "metadata": {},
   "source": [
    "## Creating synonym and not synonym dataset using wordnet\n",
    "\n",
    "First let's create a dataset of pairs of words that are synonyms or not synonyms using wordnet's synsets.\n",
    "\n",
    "*Note*: \"not synonyms\" is not equivalent of antonyms, it simply means selecting any word `w2` in `(w1, w2)` pair in which the word `w2` is not in the set of synonyms to `w1`, i.e. we are simply performing **negative sampling**. "
   ]
  },
  {
   "cell_type": "code",
   "execution_count": 16,
   "metadata": {
    "collapsed": true
   },
   "outputs": [],
   "source": [
    "import random\n",
    "from itertools import combinations, chain\n",
    "import gzip\n",
    "\n",
    "import networkx as nx \n",
    "from nltk.corpus import wordnet as wn\n",
    "import matplotlib.pyplot as plt\n",
    "\n",
    "from tqdm import tqdm\n",
    "import editdistance\n",
    "import pandas as pd\n",
    "\n",
    "random.seed(0)"
   ]
  },
  {
   "cell_type": "code",
   "execution_count": 2,
   "metadata": {
    "collapsed": true
   },
   "outputs": [],
   "source": [
    "def get_synsets(part_of_speeches=None, verbose=True):\n",
    "    \"\"\"\n",
    "    returns a dictionary where key is a particular part of speech\n",
    "    and value is the list of all synsets in that POS, if default\n",
    "    `part_of_speeches` is `None`, will use, verb, noun and adjectives.\n",
    "    \"\"\"\n",
    "    if part_of_speeches is None:\n",
    "        part_of_speeches={'verb': 'v', 'noun': 'n', 'adjective': 'a'}\n",
    "        \n",
    "    pos_synsets = dict()\n",
    "    for name, pos in part_of_speeches.items():\n",
    "        pos_synsets[name] = list(wn.all_synsets(pos))\n",
    "        if verbose:\n",
    "            print(f\"found {len(pos_synsets[name])} synsets for {name}\")\n",
    "            \n",
    "    return pos_synsets"
   ]
  },
  {
   "cell_type": "code",
   "execution_count": 3,
   "metadata": {},
   "outputs": [
    {
     "name": "stdout",
     "output_type": "stream",
     "text": [
      "found 13767 synsets for verb\n",
      "found 82115 synsets for noun\n",
      "found 18156 synsets for adjective\n"
     ]
    }
   ],
   "source": [
    "pos_synsets = get_synsets()"
   ]
  },
  {
   "cell_type": "code",
   "execution_count": 4,
   "metadata": {
    "collapsed": true
   },
   "outputs": [],
   "source": [
    "def _is_single_word(word):\n",
    "    \"\"\"\n",
    "    helper function for removing lemma names that contains multiple words, \n",
    "    separated by `-` or `_` \n",
    "    \"\"\"\n",
    "    return (('_' not in word) and ('-' not in word))\n",
    "\n",
    "def get_syngraph_wordset(pos_synsets, verbose=True):\n",
    "    \"\"\"\n",
    "    Uses the `pos_synsets` dictionary to create a dictionary\n",
    "    of same keys where values are the synonym graphs using `.lemma_names()`\n",
    "    of each synsets, see: http://www.nltk.org/howto/wordnet.html\n",
    "    \"\"\"\n",
    "    syn_graphs = dict()\n",
    "    for pos, synsets in pos_synsets.items():\n",
    "        syn_graphs[pos] = nx.Graph()\n",
    "        \n",
    "        for synset in synsets:\n",
    "            lemma_names = [x for x in synset.lemma_names() if _is_single_word(x)]\n",
    "            \n",
    "            if len(lemma_names) > 1:\n",
    "                syn_graphs[pos].add_edges_from(combinations(lemma_names, 2))\n",
    "                        \n",
    "        if verbose:\n",
    "            msg_fmt = \"Found {} synonym pairs and {} unique words in {}\"\n",
    "            print(msg_fmt.format(len(syn_graphs[pos].edges), \n",
    "                                 len(syn_graphs[pos].nodes), \n",
    "                                 pos))\n",
    "    \n",
    "    return syn_graphs\n",
    "    "
   ]
  },
  {
   "cell_type": "code",
   "execution_count": 5,
   "metadata": {},
   "outputs": [
    {
     "name": "stdout",
     "output_type": "stream",
     "text": [
      "Found 14046 synonym pairs and 6324 unique words in verb\n",
      "Found 37696 synonym pairs and 29272 unique words in noun\n",
      "Found 17737 synonym pairs and 12057 unique words in adjective\n"
     ]
    }
   ],
   "source": [
    "syn_graphs = get_syngraph_wordset(pos_synsets)"
   ]
  },
  {
   "cell_type": "code",
   "execution_count": 6,
   "metadata": {},
   "outputs": [
    {
     "name": "stdout",
     "output_type": "stream",
     "text": [
      "['alter', 'vary', 'modify', 'exchange', 'commute', 'convert', 'switch', 'shift', 'deepen', 'transfer', 'interchange']\n"
     ]
    }
   ],
   "source": [
    "print(list(syn_graphs['verb'].neighbors('change')))"
   ]
  },
  {
   "cell_type": "code",
   "execution_count": 7,
   "metadata": {},
   "outputs": [
    {
     "name": "stdout",
     "output_type": "stream",
     "text": [
      "['sea']\n"
     ]
    }
   ],
   "source": [
    "print(list(syn_graphs['noun'].neighbors('ocean')))"
   ]
  },
  {
   "cell_type": "code",
   "execution_count": 8,
   "metadata": {},
   "outputs": [
    {
     "name": "stdout",
     "output_type": "stream",
     "text": [
      "['big', 'enceinte', 'expectant', 'gravid', 'great', 'heavy', 'prominent', 'magnanimous', 'bombastic', 'declamatory', 'orotund', 'tumid', 'turgid']\n"
     ]
    }
   ],
   "source": [
    "print(list(syn_graphs['adjective'].neighbors('large')))"
   ]
  },
  {
   "cell_type": "code",
   "execution_count": 9,
   "metadata": {
    "collapsed": true
   },
   "outputs": [],
   "source": [
    "def get_subgraph(graph, subset=['change', 'buy']):\n",
    "    \"\"\"\n",
    "    Create a subgraph of graph with only nodes and nieghbors\n",
    "    given in `subset`.\n",
    "    \"\"\"\n",
    "    nodes = []\n",
    "    \n",
    "    for node in subset:\n",
    "        nodes.append(node)\n",
    "        nodes.extend(graph.neighbors(node))\n",
    "    \n",
    "    subgraph = graph.subgraph(nodes)\n",
    "    \n",
    "    return subgraph"
   ]
  },
  {
   "cell_type": "code",
   "execution_count": 10,
   "metadata": {},
   "outputs": [
    {
     "data": {
      "image/png": "[encoded data removed]",
      "text/plain": [
       "<matplotlib.figure.Figure at 0x12b40c320>"
      ]
     },
     "metadata": {},
     "output_type": "display_data"
    }
   ],
   "source": [
    "subgraph = get_subgraph(syn_graphs['verb'], subset=['sell', 'buy', 'change'])\n",
    "pos=nx.spring_layout(subgraph, iterations=150, k=1.5)\n",
    "nx.draw(subgraph, pos=pos)\n",
    "nx.draw_networkx_labels(subgraph, pos=pos, font_size=10)\n",
    "plt.show()\n",
    "# plt.savefig('graph.png')"
   ]
  },
  {
   "cell_type": "markdown",
   "metadata": {
    "collapsed": true
   },
   "source": [
    "![alttag](./img/graph.png)"
   ]
  },
  {
   "cell_type": "code",
   "execution_count": 11,
   "metadata": {
    "collapsed": true
   },
   "outputs": [],
   "source": [
    "def create_dataset(syn_graphs, train_test_component_ratio=0.5, \n",
    "                   negative_sampling_count=1):\n",
    "    weights = {'verb': 1.15,\n",
    "               'adjective': 1.0,\n",
    "               'noun': 1.0}\n",
    "\n",
    "    for pos, graph in syn_graphs.items():\n",
    "        edges = [(x, y) for (x, y) in graph.edges]\n",
    "        all_words_len = len(graph.nodes)\n",
    "        train_len = int(all_words_len*train_test_component_ratio)\n",
    "        train_words = set()\n",
    "        test_words = set()\n",
    "        train_edges = list()\n",
    "        test_edges = list()\n",
    "        for (x, y) in edges:\n",
    "            if len(train_words) < train_len*weights[pos]:\n",
    "                train_edges.append((x, y))\n",
    "                train_words.update({x, y})\n",
    "            else:\n",
    "                test_edges.append((x, y))\n",
    "                test_words.update({x, y})\n",
    "                \n",
    "        print(\"{}, train {}, test {}, intersec {}, train {}, test {}\".format(\n",
    "                pos, len(train_words), len(test_words),\n",
    "                len(train_words.intersection(test_words)),\n",
    "                len(train_words.difference(test_words)), \n",
    "                len(test_words.difference(train_words)))) \n",
    "        \n",
    "        intersection = train_words.intersection(test_words)\n",
    "        train_sampling = train_words.difference(intersection)\n",
    "        test_sampling = test_words.difference(intersection)\n",
    "        for (data, split) in zip([train_edges, test_edges], ['train', 'test']):\n",
    "            for (w1, w2) in data:\n",
    "                if editdistance.eval(w1, w2) < 2:\n",
    "                    continue\n",
    "                if (w1 in intersection) or (w2 in intersection):\n",
    "                    continue\n",
    "                pos_words =[w1]\n",
    "                pos_words.extend(list(graph.neighbors(w1)))\n",
    "                pos_words = set(pos_words)\n",
    "                if split == 'train':\n",
    "                    neg_words = list(train_sampling.difference(pos_words))\n",
    "                else:\n",
    "                    neg_words = list(test_sampling.difference(pos_words))\n",
    "                neg_sampling = random.choices(neg_words, k=negative_sampling_count)\n",
    "                yield {'word1': w1, 'word2': w2, 'synonym': 1, 'pos': pos, 'split': split}\n",
    "                for w3 in neg_sampling:\n",
    "                    yield {'word1': w1, 'word2': w3, 'synonym': 0, 'pos': pos, 'split': split}\n"
   ]
  },
  {
   "cell_type": "code",
   "execution_count": 12,
   "metadata": {},
   "outputs": [
    {
     "name": "stdout",
     "output_type": "stream",
     "text": [
      "verb, train 3637, test 4186, intersec 1499, train 2138, test 2687\n",
      "noun, train 14636, test 17377, intersec 2741, train 11895, test 14636\n",
      "adjective, train 6028, test 7553, intersec 1524, train 4504, test 6029\n"
     ]
    }
   ],
   "source": [
    "df = pd.DataFrame.from_dict(list(create_dataset(syn_graphs, negative_sampling_count=10)))"
   ]
  },
  {
   "cell_type": "code",
   "execution_count": 13,
   "metadata": {},
   "outputs": [
    {
     "data": {
      "text/plain": [
       "pos        split  synonym\n",
       "adjective  test   0           50220\n",
       "                  1            5022\n",
       "           train  0           63840\n",
       "                  1            6384\n",
       "noun       test   0          113500\n",
       "                  1           11350\n",
       "           train  0          133650\n",
       "                  1           13365\n",
       "verb       test   0           26940\n",
       "                  1            2694\n",
       "           train  0           31790\n",
       "                  1            3179\n",
       "dtype: int64"
      ]
     },
     "execution_count": 13,
     "metadata": {},
     "output_type": "execute_result"
    }
   ],
   "source": [
    "df.groupby(['pos', 'split', 'synonym']).size()"
   ]
  },
  {
   "cell_type": "code",
   "execution_count": 14,
   "metadata": {},
   "outputs": [
    {
     "data": {
      "text/html": [
       "<div>\n",
       "<style>\n",
       "    .dataframe thead tr:only-child th {\n",
       "        text-align: right;\n",
       "    }\n",
       "\n",
       "    .dataframe thead th {\n",
       "        text-align: left;\n",
       "    }\n",
       "\n",
       "    .dataframe tbody tr th {\n",
       "        vertical-align: top;\n",
       "    }\n",
       "</style>\n",
       "<table border=\"1\" class=\"dataframe\">\n",
       "  <thead>\n",
       "    <tr style=\"text-align: right;\">\n",
       "      <th></th>\n",
       "      <th>pos</th>\n",
       "      <th>split</th>\n",
       "      <th>synonym</th>\n",
       "      <th>word1</th>\n",
       "      <th>word2</th>\n",
       "    </tr>\n",
       "  </thead>\n",
       "  <tbody>\n",
       "    <tr>\n",
       "      <th>16995</th>\n",
       "      <td>verb</td>\n",
       "      <td>train</td>\n",
       "      <td>1</td>\n",
       "      <td>change</td>\n",
       "      <td>vary</td>\n",
       "    </tr>\n",
       "    <tr>\n",
       "      <th>16996</th>\n",
       "      <td>verb</td>\n",
       "      <td>train</td>\n",
       "      <td>0</td>\n",
       "      <td>change</td>\n",
       "      <td>brood</td>\n",
       "    </tr>\n",
       "    <tr>\n",
       "      <th>16997</th>\n",
       "      <td>verb</td>\n",
       "      <td>train</td>\n",
       "      <td>0</td>\n",
       "      <td>change</td>\n",
       "      <td>capitalize</td>\n",
       "    </tr>\n",
       "    <tr>\n",
       "      <th>16998</th>\n",
       "      <td>verb</td>\n",
       "      <td>train</td>\n",
       "      <td>0</td>\n",
       "      <td>change</td>\n",
       "      <td>beget</td>\n",
       "    </tr>\n",
       "    <tr>\n",
       "      <th>16999</th>\n",
       "      <td>verb</td>\n",
       "      <td>train</td>\n",
       "      <td>0</td>\n",
       "      <td>change</td>\n",
       "      <td>mercerize</td>\n",
       "    </tr>\n",
       "    <tr>\n",
       "      <th>17000</th>\n",
       "      <td>verb</td>\n",
       "      <td>train</td>\n",
       "      <td>0</td>\n",
       "      <td>change</td>\n",
       "      <td>disintegrate</td>\n",
       "    </tr>\n",
       "    <tr>\n",
       "      <th>17001</th>\n",
       "      <td>verb</td>\n",
       "      <td>train</td>\n",
       "      <td>0</td>\n",
       "      <td>change</td>\n",
       "      <td>shoetree</td>\n",
       "    </tr>\n",
       "    <tr>\n",
       "      <th>17002</th>\n",
       "      <td>verb</td>\n",
       "      <td>train</td>\n",
       "      <td>0</td>\n",
       "      <td>change</td>\n",
       "      <td>spotlight</td>\n",
       "    </tr>\n",
       "    <tr>\n",
       "      <th>17003</th>\n",
       "      <td>verb</td>\n",
       "      <td>train</td>\n",
       "      <td>0</td>\n",
       "      <td>change</td>\n",
       "      <td>domesticize</td>\n",
       "    </tr>\n",
       "    <tr>\n",
       "      <th>17004</th>\n",
       "      <td>verb</td>\n",
       "      <td>train</td>\n",
       "      <td>0</td>\n",
       "      <td>change</td>\n",
       "      <td>decree</td>\n",
       "    </tr>\n",
       "    <tr>\n",
       "      <th>17005</th>\n",
       "      <td>verb</td>\n",
       "      <td>train</td>\n",
       "      <td>0</td>\n",
       "      <td>change</td>\n",
       "      <td>serialize</td>\n",
       "    </tr>\n",
       "    <tr>\n",
       "      <th>17006</th>\n",
       "      <td>verb</td>\n",
       "      <td>train</td>\n",
       "      <td>1</td>\n",
       "      <td>change</td>\n",
       "      <td>modify</td>\n",
       "    </tr>\n",
       "    <tr>\n",
       "      <th>17007</th>\n",
       "      <td>verb</td>\n",
       "      <td>train</td>\n",
       "      <td>0</td>\n",
       "      <td>change</td>\n",
       "      <td>dialyze</td>\n",
       "    </tr>\n",
       "    <tr>\n",
       "      <th>17008</th>\n",
       "      <td>verb</td>\n",
       "      <td>train</td>\n",
       "      <td>0</td>\n",
       "      <td>change</td>\n",
       "      <td>disassemble</td>\n",
       "    </tr>\n",
       "    <tr>\n",
       "      <th>17009</th>\n",
       "      <td>verb</td>\n",
       "      <td>train</td>\n",
       "      <td>0</td>\n",
       "      <td>change</td>\n",
       "      <td>dilate</td>\n",
       "    </tr>\n",
       "    <tr>\n",
       "      <th>17010</th>\n",
       "      <td>verb</td>\n",
       "      <td>train</td>\n",
       "      <td>0</td>\n",
       "      <td>change</td>\n",
       "      <td>apprehend</td>\n",
       "    </tr>\n",
       "    <tr>\n",
       "      <th>17011</th>\n",
       "      <td>verb</td>\n",
       "      <td>train</td>\n",
       "      <td>0</td>\n",
       "      <td>change</td>\n",
       "      <td>start</td>\n",
       "    </tr>\n",
       "    <tr>\n",
       "      <th>17012</th>\n",
       "      <td>verb</td>\n",
       "      <td>train</td>\n",
       "      <td>0</td>\n",
       "      <td>change</td>\n",
       "      <td>corrode</td>\n",
       "    </tr>\n",
       "    <tr>\n",
       "      <th>17013</th>\n",
       "      <td>verb</td>\n",
       "      <td>train</td>\n",
       "      <td>0</td>\n",
       "      <td>change</td>\n",
       "      <td>combine</td>\n",
       "    </tr>\n",
       "    <tr>\n",
       "      <th>17014</th>\n",
       "      <td>verb</td>\n",
       "      <td>train</td>\n",
       "      <td>0</td>\n",
       "      <td>change</td>\n",
       "      <td>thicken</td>\n",
       "    </tr>\n",
       "  </tbody>\n",
       "</table>\n",
       "</div>"
      ],
      "text/plain": [
       "        pos  split  synonym   word1         word2\n",
       "16995  verb  train        1  change          vary\n",
       "16996  verb  train        0  change         brood\n",
       "16997  verb  train        0  change    capitalize\n",
       "16998  verb  train        0  change         beget\n",
       "16999  verb  train        0  change     mercerize\n",
       "17000  verb  train        0  change  disintegrate\n",
       "17001  verb  train        0  change      shoetree\n",
       "17002  verb  train        0  change     spotlight\n",
       "17003  verb  train        0  change   domesticize\n",
       "17004  verb  train        0  change        decree\n",
       "17005  verb  train        0  change     serialize\n",
       "17006  verb  train        1  change        modify\n",
       "17007  verb  train        0  change       dialyze\n",
       "17008  verb  train        0  change   disassemble\n",
       "17009  verb  train        0  change        dilate\n",
       "17010  verb  train        0  change     apprehend\n",
       "17011  verb  train        0  change         start\n",
       "17012  verb  train        0  change       corrode\n",
       "17013  verb  train        0  change       combine\n",
       "17014  verb  train        0  change       thicken"
      ]
     },
     "execution_count": 14,
     "metadata": {},
     "output_type": "execute_result"
    }
   ],
   "source": [
    "df.loc[df.word1=='change'].head(20)"
   ]
  },
  {
   "cell_type": "code",
   "execution_count": 20,
   "metadata": {},
   "outputs": [],
   "source": [
    "df.to_csv('../datasets/synonym_dataset.csv.gz', compression='gzip')"
   ]
  },
  {
   "cell_type": "code",
   "execution_count": null,
   "metadata": {
    "collapsed": true
   },
   "outputs": [],
   "source": []
  }
 ],
 "metadata": {
  "kernelspec": {
   "display_name": "Python 3",
   "language": "python",
   "name": "python3"
  },
  "language_info": {
   "codemirror_mode": {
    "name": "ipython",
    "version": 3
   },
   "file_extension": ".py",
   "mimetype": "text/x-python",
   "name": "python",
   "nbconvert_exporter": "python",
   "pygments_lexer": "ipython3",
   "version": "3.6.3"
  }
 },
 "nbformat": 4,
 "nbformat_minor": 2
}
